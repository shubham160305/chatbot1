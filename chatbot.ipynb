{
 "cells": [
  {
   "cell_type": "code",
   "execution_count": 1,
   "id": "634c62c2-07da-4525-abc5-2d2beae1b09f",
   "metadata": {},
   "outputs": [
    {
     "name": "stdout",
     "output_type": "stream",
     "text": [
      "Chatbot: Hello! I'm your assistant. Type 'exit' to end the conversation.\n"
     ]
    },
    {
     "name": "stdin",
     "output_type": "stream",
     "text": [
      "You:  exit\n"
     ]
    },
    {
     "name": "stdout",
     "output_type": "stream",
     "text": [
      "Chatbot: Goodbye!\n"
     ]
    }
   ],
   "source": [
    "import nltk\n",
    "from nltk.stem import WordNetLemmatizer\n",
    "import json\n",
    "import numpy as np\n",
    "from sklearn.preprocessing import LabelEncoder\n",
    "from sklearn.feature_extraction.text import TfidfVectorizer\n",
    "from sklearn.svm import LinearSVC\n",
    "from sklearn.model_selection import train_test_split\n",
    "\n",
    "# Load intents data\n",
    "with open(\"chatbot_dataset.json\", \"r\") as file:\n",
    "    intents = json.load(file)\n",
    "\n",
    "lemmatizer = WordNetLemmatizer()\n",
    "\n",
    "# Prepare training data\n",
    "texts = []\n",
    "labels = []\n",
    "classes = []\n",
    "\n",
    "# Loop through the intents and prepare the data\n",
    "for intent in intents[\"intents\"]:\n",
    "    for pattern in intent[\"patterns\"]:\n",
    "        # Tokenize and lemmatize the patterns\n",
    "        tokens = nltk.word_tokenize(pattern)\n",
    "        lemmatized_tokens = [lemmatizer.lemmatize(token.lower()) for token in tokens]\n",
    "        texts.append(\" \".join(lemmatized_tokens))\n",
    "        labels.append(intent[\"tag\"])\n",
    "    classes.append(intent[\"tag\"])\n",
    "\n",
    "# Convert texts to feature vectors using TF-IDF\n",
    "vectorizer = TfidfVectorizer()\n",
    "X = vectorizer.fit_transform(texts)\n",
    "\n",
    "# Label encoding for the tags\n",
    "label_encoder = LabelEncoder()\n",
    "y = label_encoder.fit_transform(labels)\n",
    "\n",
    "# Split into training and testing sets\n",
    "X_train, X_test, y_train, y_test = train_test_split(X, y, test_size=0.2, random_state=42)\n",
    "\n",
    "# Train the classifier (Linear SVC)\n",
    "classifier = LinearSVC()\n",
    "classifier.fit(X_train, y_train)\n",
    "\n",
    "# Simple chatbot function to get response\n",
    "def chatbot_response(text):\n",
    "    tokens = nltk.word_tokenize(text)\n",
    "    lemmatized_tokens = [lemmatizer.lemmatize(token.lower()) for token in tokens]\n",
    "    input_data = vectorizer.transform([\" \".join(lemmatized_tokens)])\n",
    "    \n",
    "    prediction = classifier.predict(input_data)\n",
    "    tag = label_encoder.inverse_transform(prediction)[0]\n",
    "    \n",
    "    for intent in intents[\"intents\"]:\n",
    "        if intent[\"tag\"] == tag:\n",
    "            return np.random.choice(intent[\"responses\"])\n",
    "\n",
    "# Chatbot loop\n",
    "print(\"Chatbot: Hello! I'm your assistant. Type 'exit' to end the conversation.\")\n",
    "while True:\n",
    "    user_input = input(\"You: \")\n",
    "    if user_input.lower() == \"exit\":\n",
    "        print(\"Chatbot: Goodbye!\")\n",
    "        break\n",
    "    response = chatbot_response(user_input)\n",
    "    print(f\"Chatbot: {response}\")\n"
   ]
  },
  {
   "cell_type": "code",
   "execution_count": 3,
   "id": "686543a8-e147-45ea-9ab8-b1ef39013f53",
   "metadata": {},
   "outputs": [
    {
     "name": "stdout",
     "output_type": "stream",
     "text": [
      "Model and components exported successfully!\n",
      "The code is not running in Google Colab. Please download the files manually.\n"
     ]
    }
   ],
   "source": [
    "import pickle\n",
    "import numpy as np\n",
    "from sklearn.svm import LinearSVC\n",
    "from sklearn.feature_extraction.text import TfidfVectorizer\n",
    "from sklearn.preprocessing import LabelEncoder\n",
    "\n",
    "# Sample model and data (replace this with your actual training code)\n",
    "data = [\"Hello\", \"How are you?\", \"Goodbye\"]\n",
    "labels = [\"greeting\", \"greeting\", \"farewell\"]\n",
    "\n",
    "# Create a simple model (replace with your actual trained model)\n",
    "vectorizer = TfidfVectorizer()\n",
    "X = vectorizer.fit_transform(data)\n",
    "label_encoder = LabelEncoder()\n",
    "y = label_encoder.fit_transform(labels)\n",
    "\n",
    "classifier = LinearSVC()\n",
    "classifier.fit(X, y)\n",
    "\n",
    "# Save the model to a .pkl file\n",
    "with open(\"chatbot_model.pkl\", \"wb\") as model_file:\n",
    "    pickle.dump(classifier, model_file)\n",
    "\n",
    "with open(\"label_encoder.pkl\", \"wb\") as le_file:\n",
    "    pickle.dump(label_encoder, le_file)\n",
    "\n",
    "with open(\"vectorizer.pkl\", \"wb\") as vec_file:\n",
    "    pickle.dump(vectorizer, vec_file)\n",
    "\n",
    "print(\"Model and components exported successfully!\")\n",
    "\n",
    "# For Google Colab users: Download the files\n",
    "try:\n",
    "    from google.colab import files\n",
    "    files.download(\"chatbot_model.pkl\")\n",
    "    files.download(\"label_encoder.pkl\")\n",
    "    files.download(\"vectorizer.pkl\")\n",
    "except ImportError:\n",
    "    print(\"The code is not running in Google Colab. Please download the files manually.\")\n"
   ]
  },
  {
   "cell_type": "code",
   "execution_count": null,
   "id": "67f849d9-8f9e-48a2-82bc-9b4c1cdf4e16",
   "metadata": {},
   "outputs": [],
   "source": []
  }
 ],
 "metadata": {
  "kernelspec": {
   "display_name": "Python 3 (ipykernel)",
   "language": "python",
   "name": "python3"
  },
  "language_info": {
   "codemirror_mode": {
    "name": "ipython",
    "version": 3
   },
   "file_extension": ".py",
   "mimetype": "text/x-python",
   "name": "python",
   "nbconvert_exporter": "python",
   "pygments_lexer": "ipython3",
   "version": "3.12.3"
  }
 },
 "nbformat": 4,
 "nbformat_minor": 5
}
